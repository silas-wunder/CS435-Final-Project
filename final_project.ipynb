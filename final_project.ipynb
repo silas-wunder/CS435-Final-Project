{
 "cells": [
  {
   "cell_type": "code",
   "execution_count": 21,
   "metadata": {},
   "outputs": [],
   "source": [
    "import numpy as np\n",
    "import pandas as pd\n",
    "import tensorflow as tf\n",
    "from sklearn.preprocessing import MultiLabelBinarizer\n",
    "from sklearn.preprocessing import OrdinalEncoder\n",
    "from sklearn.compose import make_column_transformer\n",
    "from sklearn.model_selection import train_test_split\n",
    "from sklearn.linear_model import Lasso\n",
    "from sklearn.linear_model import ElasticNet\n",
    "from sklearn.linear_model import Ridge\n",
    "from sklearn.linear_model import LinearRegression\n",
    "from sklearn.svm import SVR\n",
    "from sklearn.svm import NuSVR\n",
    "from sklearn.svm import LinearSVR\n",
    "import gc\n",
    "import keras\n",
    "import json\n"
   ]
  },
  {
   "cell_type": "code",
   "execution_count": 2,
   "metadata": {},
   "outputs": [],
   "source": [
    "with open(\"./input/steamspy/detailed/steam_spy_detailed.json\", \"r\") as f:\n",
    "    # with open('/Final/input/steamspy/detailed/steam_spy_detailed.json', 'r') as f:\n",
    "    raw_file = json.load(f)\n"
   ]
  },
  {
   "cell_type": "markdown",
   "metadata": {},
   "source": [
    "# Return format for an app:\n",
    "\n",
    "- appid - Steam Application ID. If it's 999999, then data for this application is hidden on developer's request, sorry.\n",
    "- name - game's name\n",
    "- ~~developer - comma separated list of the developers of the game~~\n",
    "- ~~publisher - comma separated list of the publishers of the game~~\n",
    "- ~~score_rank - score rank of the game based on user reviews~~\n",
    "- ~~owners - owners of this application on Steam as a range.~~\n",
    "- average_forever - average playtime since March 2009. In minutes.\n",
    "- ~~average_2weeks - average playtime in the last two weeks. In minutes.~~\n",
    "- median_forever - median playtime since March 2009. In minutes.\n",
    "- ~~median_2weeks - median playtime in the last two weeks. In minutes.~~\n",
    "- ~~ccu - peak CCU yesterday.~~\n",
    "- ~~price - current US price in cents.~~\n",
    "- initialprice - original US price in cents.\n",
    "- ~~discount - current discount in percents.~~\n",
    "- tags - game's tags with votes in JSON array.\n",
    "- languages - list of supported languages.\n",
    "- genre - list of genres.\n",
    "\n",
    "Strikethrough indicates dropped variable not used in our analysis\n"
   ]
  },
  {
   "cell_type": "code",
   "execution_count": 3,
   "metadata": {},
   "outputs": [],
   "source": [
    "spy_data = pd.DataFrame.from_records(raw_file).T\n",
    "del raw_file\n",
    "gc.collect()\n",
    "spy_data.drop(\n",
    "    [\n",
    "        \"appid\",\n",
    "        \"developer\",\n",
    "        \"publisher\",\n",
    "        \"score_rank\",\n",
    "        \"userscore\",\n",
    "        \"owners\",\n",
    "        \"average_2weeks\",\n",
    "        \"median_2weeks\",\n",
    "        \"price\",\n",
    "        \"discount\",\n",
    "        \"ccu\",\n",
    "    ],\n",
    "    axis=1,\n",
    "    inplace=True,\n",
    ")\n",
    "spy_data.rename(\n",
    "    {\n",
    "        \"name\": \"Name\",\n",
    "        \"positive\": \"Positive Reviews\",\n",
    "        \"negative\": \"Negative Reviews\",\n",
    "        \"average_forever\": \"Average Playtime\",\n",
    "        \"median_forever\": \"Median Playtime\",\n",
    "        \"initialprice\": \"Price\",\n",
    "        \"languages\": \"Languages\",\n",
    "        \"genre\": \"Genres\",\n",
    "        \"tags\": \"Tags\",\n",
    "    },\n",
    "    axis=1,\n",
    "    inplace=True,\n",
    ")\n"
   ]
  },
  {
   "cell_type": "markdown",
   "metadata": {},
   "source": [
    "The following line will inflate the `Tags` column to many different columns, each named after the possible keys and the values being the values from the tags dictionary. This may or may not be necessary for analysis, so I will leave it here for further discussion later.\n"
   ]
  },
  {
   "cell_type": "code",
   "execution_count": 4,
   "metadata": {},
   "outputs": [],
   "source": [
    "# pd.concat([spy_data.drop([\"Tags\"], axis=1), spy_data['Tags'].apply(pd.Series, dtype='uint32')], axis=1).fillna(0)\n"
   ]
  },
  {
   "cell_type": "code",
   "execution_count": 5,
   "metadata": {},
   "outputs": [
    {
     "data": {
      "text/html": [
       "<div>\n",
       "<style scoped>\n",
       "    .dataframe tbody tr th:only-of-type {\n",
       "        vertical-align: middle;\n",
       "    }\n",
       "\n",
       "    .dataframe tbody tr th {\n",
       "        vertical-align: top;\n",
       "    }\n",
       "\n",
       "    .dataframe thead th {\n",
       "        text-align: right;\n",
       "    }\n",
       "</style>\n",
       "<table border=\"1\" class=\"dataframe\">\n",
       "  <thead>\n",
       "    <tr style=\"text-align: right;\">\n",
       "      <th></th>\n",
       "      <th>Name</th>\n",
       "      <th>Positive Reviews</th>\n",
       "      <th>Negative Reviews</th>\n",
       "      <th>Average Playtime</th>\n",
       "      <th>Median Playtime</th>\n",
       "      <th>Price</th>\n",
       "      <th>Languages</th>\n",
       "      <th>Genres</th>\n",
       "      <th>Tags</th>\n",
       "    </tr>\n",
       "  </thead>\n",
       "  <tbody>\n",
       "    <tr>\n",
       "      <th>10</th>\n",
       "      <td>Counter-Strike</td>\n",
       "      <td>196594</td>\n",
       "      <td>5073</td>\n",
       "      <td>10978</td>\n",
       "      <td>311</td>\n",
       "      <td>999</td>\n",
       "      <td>English, French, German, Italian, Spanish - Sp...</td>\n",
       "      <td>Action</td>\n",
       "      <td>{'Action': 5393, 'FPS': 4819, 'Multiplayer': 3...</td>\n",
       "    </tr>\n",
       "    <tr>\n",
       "      <th>100</th>\n",
       "      <td>Counter-Strike: Condition Zero</td>\n",
       "      <td>13442</td>\n",
       "      <td>1535</td>\n",
       "      <td>813</td>\n",
       "      <td>57</td>\n",
       "      <td>999</td>\n",
       "      <td>English, French, German, Italian, Spanish - Sp...</td>\n",
       "      <td>Action</td>\n",
       "      <td>{'Action': 1339, 'FPS': 979, 'Shooter': 723, '...</td>\n",
       "    </tr>\n",
       "    <tr>\n",
       "      <th>1000000</th>\n",
       "      <td>ASCENXION</td>\n",
       "      <td>27</td>\n",
       "      <td>5</td>\n",
       "      <td>0</td>\n",
       "      <td>0</td>\n",
       "      <td>999</td>\n",
       "      <td>English, Korean, Simplified Chinese</td>\n",
       "      <td>Action, Adventure, Indie</td>\n",
       "      <td>{'Shoot 'Em Up': 186, 'Metroidvania': 181, 'Bu...</td>\n",
       "    </tr>\n",
       "    <tr>\n",
       "      <th>1000010</th>\n",
       "      <td>Crown Trick</td>\n",
       "      <td>3812</td>\n",
       "      <td>584</td>\n",
       "      <td>775</td>\n",
       "      <td>1033</td>\n",
       "      <td>1999</td>\n",
       "      <td>English, Simplified Chinese, Japanese, Traditi...</td>\n",
       "      <td>Adventure, Indie, RPG, Strategy</td>\n",
       "      <td>{'Rogue-like': 264, 'Turn-Based Combat': 250, ...</td>\n",
       "    </tr>\n",
       "    <tr>\n",
       "      <th>1000030</th>\n",
       "      <td>Cook, Serve, Delicious! 3?!</td>\n",
       "      <td>1470</td>\n",
       "      <td>102</td>\n",
       "      <td>83</td>\n",
       "      <td>107</td>\n",
       "      <td>1999</td>\n",
       "      <td>English</td>\n",
       "      <td>Action, Indie, Simulation, Strategy</td>\n",
       "      <td>{'Typing': 219, 'Management': 209, 'Casual': 2...</td>\n",
       "    </tr>\n",
       "  </tbody>\n",
       "</table>\n",
       "</div>"
      ],
      "text/plain": [
       "                                   Name Positive Reviews Negative Reviews  \\\n",
       "10                       Counter-Strike           196594             5073   \n",
       "100      Counter-Strike: Condition Zero            13442             1535   \n",
       "1000000                       ASCENXION               27                5   \n",
       "1000010                     Crown Trick             3812              584   \n",
       "1000030     Cook, Serve, Delicious! 3?!             1470              102   \n",
       "\n",
       "        Average Playtime Median Playtime Price  \\\n",
       "10                 10978             311   999   \n",
       "100                  813              57   999   \n",
       "1000000                0               0   999   \n",
       "1000010              775            1033  1999   \n",
       "1000030               83             107  1999   \n",
       "\n",
       "                                                 Languages  \\\n",
       "10       English, French, German, Italian, Spanish - Sp...   \n",
       "100      English, French, German, Italian, Spanish - Sp...   \n",
       "1000000                English, Korean, Simplified Chinese   \n",
       "1000010  English, Simplified Chinese, Japanese, Traditi...   \n",
       "1000030                                            English   \n",
       "\n",
       "                                      Genres  \\\n",
       "10                                    Action   \n",
       "100                                   Action   \n",
       "1000000             Action, Adventure, Indie   \n",
       "1000010      Adventure, Indie, RPG, Strategy   \n",
       "1000030  Action, Indie, Simulation, Strategy   \n",
       "\n",
       "                                                      Tags  \n",
       "10       {'Action': 5393, 'FPS': 4819, 'Multiplayer': 3...  \n",
       "100      {'Action': 1339, 'FPS': 979, 'Shooter': 723, '...  \n",
       "1000000  {'Shoot 'Em Up': 186, 'Metroidvania': 181, 'Bu...  \n",
       "1000010  {'Rogue-like': 264, 'Turn-Based Combat': 250, ...  \n",
       "1000030  {'Typing': 219, 'Management': 209, 'Casual': 2...  "
      ]
     },
     "execution_count": 5,
     "metadata": {},
     "output_type": "execute_result"
    }
   ],
   "source": [
    "spy_data.head()\n"
   ]
  },
  {
   "cell_type": "markdown",
   "metadata": {},
   "source": [
    "TODO: Read in player count data (needs a lot of ram, don't try doing it without at least 16(?)gb), take average and join the dataframes, then run analysis with player count as the target. See CS 345 final project for more information on how to implement this\n"
   ]
  },
  {
   "cell_type": "code",
   "execution_count": 6,
   "metadata": {},
   "outputs": [],
   "source": [
    "with open(\"./input/steam_charts/steam_charts.json\", \"r\") as f:\n",
    "    raw_player_count_file = json.load(f)\n"
   ]
  },
  {
   "cell_type": "code",
   "execution_count": 7,
   "metadata": {},
   "outputs": [],
   "source": [
    "mean_dict = {}\n",
    "for key in raw_player_count_file.keys():\n",
    "    mean_dict[key] = (\n",
    "        pd.DataFrame(raw_player_count_file[key], index=[key]).mean(axis=1).iloc[0]\n",
    "    )\n",
    "player_count_data = pd.DataFrame(\n",
    "    mean_dict, index=[\"Mean Concurrent Players All Time\"]\n",
    ").T.sort_index()\n"
   ]
  },
  {
   "cell_type": "code",
   "execution_count": 8,
   "metadata": {},
   "outputs": [
    {
     "data": {
      "text/html": [
       "<div>\n",
       "<style scoped>\n",
       "    .dataframe tbody tr th:only-of-type {\n",
       "        vertical-align: middle;\n",
       "    }\n",
       "\n",
       "    .dataframe tbody tr th {\n",
       "        vertical-align: top;\n",
       "    }\n",
       "\n",
       "    .dataframe thead th {\n",
       "        text-align: right;\n",
       "    }\n",
       "</style>\n",
       "<table border=\"1\" class=\"dataframe\">\n",
       "  <thead>\n",
       "    <tr style=\"text-align: right;\">\n",
       "      <th></th>\n",
       "      <th>Mean Concurrent Players All Time</th>\n",
       "    </tr>\n",
       "  </thead>\n",
       "  <tbody>\n",
       "    <tr>\n",
       "      <th>10</th>\n",
       "      <td>11408.154961</td>\n",
       "    </tr>\n",
       "    <tr>\n",
       "      <th>100</th>\n",
       "      <td>49.588629</td>\n",
       "    </tr>\n",
       "    <tr>\n",
       "      <th>1000000</th>\n",
       "      <td>0.382979</td>\n",
       "    </tr>\n",
       "    <tr>\n",
       "      <th>1000010</th>\n",
       "      <td>69.729662</td>\n",
       "    </tr>\n",
       "    <tr>\n",
       "      <th>1000030</th>\n",
       "      <td>46.014870</td>\n",
       "    </tr>\n",
       "  </tbody>\n",
       "</table>\n",
       "</div>"
      ],
      "text/plain": [
       "         Mean Concurrent Players All Time\n",
       "10                           11408.154961\n",
       "100                             49.588629\n",
       "1000000                          0.382979\n",
       "1000010                         69.729662\n",
       "1000030                         46.014870"
      ]
     },
     "execution_count": 8,
     "metadata": {},
     "output_type": "execute_result"
    }
   ],
   "source": [
    "player_count_data.head()\n"
   ]
  },
  {
   "cell_type": "code",
   "execution_count": 9,
   "metadata": {},
   "outputs": [
    {
     "data": {
      "text/html": [
       "<div>\n",
       "<style scoped>\n",
       "    .dataframe tbody tr th:only-of-type {\n",
       "        vertical-align: middle;\n",
       "    }\n",
       "\n",
       "    .dataframe tbody tr th {\n",
       "        vertical-align: top;\n",
       "    }\n",
       "\n",
       "    .dataframe thead th {\n",
       "        text-align: right;\n",
       "    }\n",
       "</style>\n",
       "<table border=\"1\" class=\"dataframe\">\n",
       "  <thead>\n",
       "    <tr style=\"text-align: right;\">\n",
       "      <th></th>\n",
       "      <th>Name</th>\n",
       "      <th>Positive Reviews</th>\n",
       "      <th>Negative Reviews</th>\n",
       "      <th>Average Playtime</th>\n",
       "      <th>Median Playtime</th>\n",
       "      <th>Price</th>\n",
       "      <th>Languages</th>\n",
       "      <th>Genres</th>\n",
       "      <th>Tags</th>\n",
       "      <th>Mean Concurrent Players All Time</th>\n",
       "    </tr>\n",
       "  </thead>\n",
       "  <tbody>\n",
       "    <tr>\n",
       "      <th>10</th>\n",
       "      <td>Counter-Strike</td>\n",
       "      <td>196594</td>\n",
       "      <td>5073</td>\n",
       "      <td>10978</td>\n",
       "      <td>311</td>\n",
       "      <td>999</td>\n",
       "      <td>English, French, German, Italian, Spanish - Sp...</td>\n",
       "      <td>Action</td>\n",
       "      <td>{'Action': 5393, 'FPS': 4819, 'Multiplayer': 3...</td>\n",
       "      <td>11408.154961</td>\n",
       "    </tr>\n",
       "    <tr>\n",
       "      <th>100</th>\n",
       "      <td>Counter-Strike: Condition Zero</td>\n",
       "      <td>13442</td>\n",
       "      <td>1535</td>\n",
       "      <td>813</td>\n",
       "      <td>57</td>\n",
       "      <td>999</td>\n",
       "      <td>English, French, German, Italian, Spanish - Sp...</td>\n",
       "      <td>Action</td>\n",
       "      <td>{'Action': 1339, 'FPS': 979, 'Shooter': 723, '...</td>\n",
       "      <td>49.588629</td>\n",
       "    </tr>\n",
       "    <tr>\n",
       "      <th>1000000</th>\n",
       "      <td>ASCENXION</td>\n",
       "      <td>27</td>\n",
       "      <td>5</td>\n",
       "      <td>0</td>\n",
       "      <td>0</td>\n",
       "      <td>999</td>\n",
       "      <td>English, Korean, Simplified Chinese</td>\n",
       "      <td>Action, Adventure, Indie</td>\n",
       "      <td>{'Shoot 'Em Up': 186, 'Metroidvania': 181, 'Bu...</td>\n",
       "      <td>0.382979</td>\n",
       "    </tr>\n",
       "    <tr>\n",
       "      <th>1000010</th>\n",
       "      <td>Crown Trick</td>\n",
       "      <td>3812</td>\n",
       "      <td>584</td>\n",
       "      <td>775</td>\n",
       "      <td>1033</td>\n",
       "      <td>1999</td>\n",
       "      <td>English, Simplified Chinese, Japanese, Traditi...</td>\n",
       "      <td>Adventure, Indie, RPG, Strategy</td>\n",
       "      <td>{'Rogue-like': 264, 'Turn-Based Combat': 250, ...</td>\n",
       "      <td>69.729662</td>\n",
       "    </tr>\n",
       "    <tr>\n",
       "      <th>1000030</th>\n",
       "      <td>Cook, Serve, Delicious! 3?!</td>\n",
       "      <td>1470</td>\n",
       "      <td>102</td>\n",
       "      <td>83</td>\n",
       "      <td>107</td>\n",
       "      <td>1999</td>\n",
       "      <td>English</td>\n",
       "      <td>Action, Indie, Simulation, Strategy</td>\n",
       "      <td>{'Typing': 219, 'Management': 209, 'Casual': 2...</td>\n",
       "      <td>46.014870</td>\n",
       "    </tr>\n",
       "  </tbody>\n",
       "</table>\n",
       "</div>"
      ],
      "text/plain": [
       "                                   Name Positive Reviews Negative Reviews  \\\n",
       "10                       Counter-Strike           196594             5073   \n",
       "100      Counter-Strike: Condition Zero            13442             1535   \n",
       "1000000                       ASCENXION               27                5   \n",
       "1000010                     Crown Trick             3812              584   \n",
       "1000030     Cook, Serve, Delicious! 3?!             1470              102   \n",
       "\n",
       "        Average Playtime Median Playtime Price  \\\n",
       "10                 10978             311   999   \n",
       "100                  813              57   999   \n",
       "1000000                0               0   999   \n",
       "1000010              775            1033  1999   \n",
       "1000030               83             107  1999   \n",
       "\n",
       "                                                 Languages  \\\n",
       "10       English, French, German, Italian, Spanish - Sp...   \n",
       "100      English, French, German, Italian, Spanish - Sp...   \n",
       "1000000                English, Korean, Simplified Chinese   \n",
       "1000010  English, Simplified Chinese, Japanese, Traditi...   \n",
       "1000030                                            English   \n",
       "\n",
       "                                      Genres  \\\n",
       "10                                    Action   \n",
       "100                                   Action   \n",
       "1000000             Action, Adventure, Indie   \n",
       "1000010      Adventure, Indie, RPG, Strategy   \n",
       "1000030  Action, Indie, Simulation, Strategy   \n",
       "\n",
       "                                                      Tags  \\\n",
       "10       {'Action': 5393, 'FPS': 4819, 'Multiplayer': 3...   \n",
       "100      {'Action': 1339, 'FPS': 979, 'Shooter': 723, '...   \n",
       "1000000  {'Shoot 'Em Up': 186, 'Metroidvania': 181, 'Bu...   \n",
       "1000010  {'Rogue-like': 264, 'Turn-Based Combat': 250, ...   \n",
       "1000030  {'Typing': 219, 'Management': 209, 'Casual': 2...   \n",
       "\n",
       "         Mean Concurrent Players All Time  \n",
       "10                           11408.154961  \n",
       "100                             49.588629  \n",
       "1000000                          0.382979  \n",
       "1000010                         69.729662  \n",
       "1000030                         46.014870  "
      ]
     },
     "execution_count": 9,
     "metadata": {},
     "output_type": "execute_result"
    }
   ],
   "source": [
    "all_data = spy_data.merge(\n",
    "    player_count_data, how=\"inner\", left_index=True, right_index=True\n",
    ")\n",
    "all_data.head()\n"
   ]
  },
  {
   "cell_type": "code",
   "execution_count": 10,
   "metadata": {},
   "outputs": [],
   "source": [
    "all_data[\"Languages\"] = all_data[\"Languages\"].str.split(\", \")\n",
    "all_data[\"Genres\"] = all_data[\"Genres\"].str.split(\", \")\n",
    "all_data = all_data.loc[all_data[\"Languages\"].notna()]\n",
    "all_data = all_data.loc[all_data[\"Mean Concurrent Players All Time\"].notna()]\n"
   ]
  },
  {
   "cell_type": "markdown",
   "metadata": {},
   "source": [
    "Probably want to trim this a little bit to stop double counts, but also low priority.\n"
   ]
  },
  {
   "cell_type": "code",
   "execution_count": 11,
   "metadata": {},
   "outputs": [],
   "source": [
    "mlb = MultiLabelBinarizer()\n",
    "oe = OrdinalEncoder(dtype=\"uint32\")\n",
    "column_transform = make_column_transformer(\n",
    "    (\n",
    "        oe,\n",
    "        [\n",
    "            \"Positive Reviews\",\n",
    "            \"Negative Reviews\",\n",
    "            \"Average Playtime\",\n",
    "            \"Median Playtime\",\n",
    "            \"Price\",\n",
    "        ],\n",
    "    )\n",
    ")\n",
    "X = column_transform.fit_transform(all_data)\n",
    "X_languages = mlb.fit_transform(all_data[\"Languages\"].tolist())\n",
    "X_genres = mlb.fit_transform(all_data[\"Genres\"].tolist())\n",
    "Xtmp = [[] for _ in range(len(X))]\n",
    "Xt = [[] for _ in range(len(X))]\n",
    "for i in range(len(X)):\n",
    "    Xtmp[i] = np.append(X[i], X_languages[i])\n",
    "    Xt[i] = np.append(Xtmp[i], X_genres[i])\n",
    "Xt = np.stack(Xt, axis=0)\n"
   ]
  },
  {
   "cell_type": "code",
   "execution_count": 12,
   "metadata": {},
   "outputs": [],
   "source": [
    "y = np.array(all_data[\"Mean Concurrent Players All Time\"])\n"
   ]
  },
  {
   "cell_type": "code",
   "execution_count": 13,
   "metadata": {},
   "outputs": [
    {
     "data": {
      "text/plain": [
       "((12959, 83), (12959,), (38880, 83), (38880,))"
      ]
     },
     "execution_count": 13,
     "metadata": {},
     "output_type": "execute_result"
    }
   ],
   "source": [
    "X_train, X_test, y_train, y_test = train_test_split(\n",
    "    Xt, y, test_size=0.75, shuffle=True, random_state=42\n",
    ")\n",
    "(X_train.shape, y_train.shape, X_test.shape, y_test.shape)\n"
   ]
  },
  {
   "cell_type": "code",
   "execution_count": 14,
   "metadata": {},
   "outputs": [
    {
     "data": {
      "text/plain": [
       "-0.12912198395030883"
      ]
     },
     "execution_count": 14,
     "metadata": {},
     "output_type": "execute_result"
    }
   ],
   "source": [
    "lasso = Lasso(alpha=0.1)\n",
    "lasso.fit(X_train, y_train)\n",
    "lasso.score(X_test, y_test)\n"
   ]
  },
  {
   "cell_type": "code",
   "execution_count": 15,
   "metadata": {},
   "outputs": [
    {
     "data": {
      "text/plain": [
       "-0.018161184741588343"
      ]
     },
     "execution_count": 15,
     "metadata": {},
     "output_type": "execute_result"
    }
   ],
   "source": [
    "enet = ElasticNet(random_state=42)\n",
    "enet.fit(X_train, y_train)\n",
    "enet.score(X_test, y_test)\n"
   ]
  },
  {
   "cell_type": "code",
   "execution_count": 16,
   "metadata": {},
   "outputs": [
    {
     "data": {
      "text/plain": [
       "-0.12880602685362774"
      ]
     },
     "execution_count": 16,
     "metadata": {},
     "output_type": "execute_result"
    }
   ],
   "source": [
    "ridge = Ridge(random_state=42)\n",
    "ridge.fit(X_train, y_train)\n",
    "ridge.score(X_test, y_test)\n"
   ]
  },
  {
   "cell_type": "code",
   "execution_count": 17,
   "metadata": {},
   "outputs": [
    {
     "data": {
      "text/plain": [
       "-0.13000249992474489"
      ]
     },
     "execution_count": 17,
     "metadata": {},
     "output_type": "execute_result"
    }
   ],
   "source": [
    "lr = LinearRegression()\n",
    "lr.fit(X_train, y_train)\n",
    "lr.score(X_test, y_test)\n"
   ]
  },
  {
   "cell_type": "code",
   "execution_count": 18,
   "metadata": {},
   "outputs": [
    {
     "data": {
      "text/plain": [
       "0.0011547566807220688"
      ]
     },
     "execution_count": 18,
     "metadata": {},
     "output_type": "execute_result"
    }
   ],
   "source": [
    "svr = SVR()\n",
    "svr.fit(X_train, y_train)\n",
    "svr.score(X_test, y_test)\n"
   ]
  },
  {
   "cell_type": "code",
   "execution_count": 19,
   "metadata": {},
   "outputs": [
    {
     "data": {
      "text/plain": [
       "0.0011700983796757436"
      ]
     },
     "execution_count": 19,
     "metadata": {},
     "output_type": "execute_result"
    }
   ],
   "source": [
    "nsvr = NuSVR()\n",
    "nsvr.fit(X_train, y_train)\n",
    "nsvr.score(X_test, y_test)\n"
   ]
  },
  {
   "cell_type": "code",
   "execution_count": 23,
   "metadata": {},
   "outputs": [
    {
     "name": "stderr",
     "output_type": "stream",
     "text": [
      "c:\\Users\\spwun\\AppData\\Local\\Programs\\Python\\Python310\\lib\\site-packages\\sklearn\\svm\\_base.py:1225: ConvergenceWarning: Liblinear failed to converge, increase the number of iterations.\n",
      "  warnings.warn(\n"
     ]
    },
    {
     "data": {
      "text/plain": [
       "0.004542628684198413"
      ]
     },
     "execution_count": 23,
     "metadata": {},
     "output_type": "execute_result"
    }
   ],
   "source": [
    "lsvr = LinearSVR(max_iter = 1e6)\n",
    "lsvr.fit(X_train, y_train)\n",
    "lsvr.score(X_test, y_test)\n"
   ]
  }
 ],
 "metadata": {
  "kernelspec": {
   "display_name": "Python 3.10.4 64-bit",
   "language": "python",
   "name": "python3"
  },
  "language_info": {
   "codemirror_mode": {
    "name": "ipython",
    "version": 3
   },
   "file_extension": ".py",
   "mimetype": "text/x-python",
   "name": "python",
   "nbconvert_exporter": "python",
   "pygments_lexer": "ipython3",
   "version": "3.10.4"
  },
  "orig_nbformat": 4,
  "vscode": {
   "interpreter": {
    "hash": "73ca4cb37702d57fa49c26366cd2b8af52673599232d6b06106dbd0be14b6734"
   }
  }
 },
 "nbformat": 4,
 "nbformat_minor": 2
}
